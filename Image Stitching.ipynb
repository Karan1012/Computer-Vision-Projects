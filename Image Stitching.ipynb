{
 "cells": [
  {
   "cell_type": "code",
   "execution_count": 8,
   "metadata": {},
   "outputs": [
    {
     "name": "stdout",
     "output_type": "stream",
     "text": [
      "The best distance between the descriptors is :\n",
      "3.4028234663852886e+38\n",
      "The best distance between the descriptors is :\n",
      "3.4028234663852886e+38\n"
     ]
    },
    {
     "data": {
      "text/plain": [
       "-1"
      ]
     },
     "execution_count": 8,
     "metadata": {},
     "output_type": "execute_result"
    }
   ],
   "source": [
    "import numpy as np\n",
    "import imutils\n",
    "import cv2\n",
    "\n",
    "class Stitcher:\n",
    "    def __init__(self):\n",
    "        self.isv3 = imutils.is_cv3(or_better=True)\n",
    "    def stitch(self, images, ratio=0.75, Threshold=4.0, showMatches=False):\n",
    "        (imageA, imageB) = images\n",
    "        (kpsA, featuresA) = self.detectAndDescribe(imageA)\n",
    "        (kpsB, featuresB) = self.detectAndDescribe(imageB)\n",
    "        M = self.matchKeypoints(kpsA, kpsB,featuresA, featuresB, imageA, imageB)\n",
    "        (matches, H, status, vis) = M\n",
    "        result = cv2.warpPerspective(imageB, H, (imageB.shape[1] + imageA.shape[1], imageA.shape[0]))\n",
    "        result[0:imageA.shape[0], 0:imageA.shape[1]] = imageA\n",
    "        return (result,vis,H)\n",
    "\n",
    "    def detectAndDescribe(self, image):\n",
    "        gray = cv2.cvtColor(image, cv2.COLOR_BGR2GRAY)\n",
    "        descriptor = cv2.ORB_create()\n",
    "        (kps, features) = descriptor.detectAndCompute(gray, None)\n",
    "        return (kps, features)\n",
    "\n",
    "    def matchKeypoints(self, kpsA, kpsB, featuresA, featuresB,\n",
    "                ratio, Threshold):\n",
    "        matcher = cv2.DescriptorMatcher_create(cv2.DESCRIPTOR_MATCHER_BRUTEFORCE_HAMMING)\n",
    "        matches = matcher.match(featuresA, featuresB, None)\n",
    "        matches.sort(key=lambda x: x.distance, reverse=False)\n",
    "        GoodMatches = int(len(matches) * 0.25)\n",
    "        matches = matches[:GoodMatches]\n",
    "        print(\"The best distance between the descriptors is :\")\n",
    "        print(cv2.DMatch().distance)\n",
    "        ptsA = np.zeros((len(matches), 2), dtype=np.float32)\n",
    "        ptsB = np.zeros((len(matches), 2), dtype=np.float32)\n",
    "        v = cv2.drawMatches(imageA, kpsA, imageB, kpsB, matches, None)\n",
    "        for i, match in enumerate(matches):\n",
    "            ptsA[i, :] = kpsA[match.queryIdx].pt\n",
    "            ptsB[i, :] = kpsB[match.trainIdx].pt\n",
    "        (H, status) = cv2.findHomography(ptsB, ptsA, cv2.RANSAC,4.0)\n",
    "        return (matches, H, status, v)\n",
    "\n",
    "    def drawMatches(imageA, imageB, kpsA, kpsB, matches, status):\n",
    "        (hA, wA) = imageA.shape[:2]\n",
    "        (hB, wB) = imageB.shape[:2]\n",
    "        v = np.zeros((max(hA, hB), wA + wB, 3), dtype=\"uint8\")\n",
    "        v[0:hA, 0:wA] = imageA\n",
    "        v[0:hB, wA:] = imageB\n",
    "        for ((trainIdx, queryIdx), s) in zip(matches, status):\n",
    "            if s == 1:\n",
    "                ptA = (int(kpsA[queryIdx][0]), int(kpsA[queryIdx][1]))\n",
    "                ptB = (int(kpsB[trainIdx][0]) + wA, int(kpsB[trainIdx][1]))\n",
    "                cv2.line(v, ptA, ptB, (0, 255, 0), 1)\n",
    "        return v\n",
    "    \n",
    "def trim(frame):\n",
    "    result = cv2.copyMakeBorder(frame, 50, 50, 50, 50, cv2.BORDER_CONSTANT, (0, 0, 0))\n",
    "    gray = cv2.cvtColor(result, cv2.COLOR_BGR2GRAY)\n",
    "    thresh = cv2.threshold(gray, 0, 255, cv2.THRESH_BINARY)[1]\n",
    "    cnts = cv2.findContours(thresh.copy(), cv2.RETR_EXTERNAL, cv2.CHAIN_APPROX_SIMPLE)\n",
    "    cnts = imutils.grab_contours(cnts)\n",
    "    c = max(cnts, key=cv2.contourArea)\n",
    "    (x, y, w, h) = cv2.boundingRect(c)\n",
    "    result = result[y:y + h, x:x + w]   \n",
    "    return result\n",
    "\n",
    "imageA = cv2.imread('BigFour0.png',1)\n",
    "imageB = cv2.imread('BigFour1.png',1)\n",
    "imageC = cv2.imread('BigFour2.png',1)\n",
    "stitcher = Stitcher()\n",
    "\n",
    "(result, v, h) = stitcher.stitch([imageA, imageB], showMatches=True)\n",
    "result = trim(result)\n",
    "(result1, v1, h1) = stitcher.stitch([result, imageC], showMatches=True)\n",
    "result1 = trim(result1)\n",
    "cv2.imwrite(\"Output.png\",result1)\n",
    "cv2.imshow(\"Output\",result1)\n",
    "cv2.waitKey(0)"
   ]
  },
  {
   "cell_type": "code",
   "execution_count": null,
   "metadata": {},
   "outputs": [],
   "source": []
  }
 ],
 "metadata": {
  "kernelspec": {
   "display_name": "Python 3",
   "language": "python",
   "name": "python3"
  },
  "language_info": {
   "codemirror_mode": {
    "name": "ipython",
    "version": 3
   },
   "file_extension": ".py",
   "mimetype": "text/x-python",
   "name": "python",
   "nbconvert_exporter": "python",
   "pygments_lexer": "ipython3",
   "version": "3.7.3"
  }
 },
 "nbformat": 4,
 "nbformat_minor": 2
}
