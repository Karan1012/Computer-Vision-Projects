{
 "cells": [
  {
   "cell_type": "code",
   "execution_count": 2,
   "metadata": {},
   "outputs": [
    {
     "data": {
      "text/plain": [
       "-1"
      ]
     },
     "execution_count": 2,
     "metadata": {},
     "output_type": "execute_result"
    }
   ],
   "source": [
    "import cv2\n",
    "import numpy as np\n",
    "\n",
    "images=[]\n",
    "images_grey=[]\n",
    "\n",
    "for i in range(51):\n",
    "    images.append(cv2.imread(f\"C:\\\\Users\\\\karan\\\\hotelImages\\\\hotel.seq{i}.png\"))\n",
    "    images_grey.append(cv2.imread(f\"C:\\\\Users\\\\karan\\\\hotelImages\\\\hotel.seq{i}.png\",0))\n",
    "images = np.asarray(images)\n",
    "images_grey = np.asarray(images_grey)\n",
    "\n",
    "\n",
    "def detectKeypoints (currImage, tau):\n",
    "    img = np.float64(cv2.cvtColor(currImage,cv2.COLOR_BGR2GRAY))\n",
    "    Ix = cv2.Sobel(img, cv2.CV_64F, 1, 0, ksize=3)\n",
    "    Iy = cv2.Sobel(img, cv2.CV_64F, 0, 1, ksize=3)\n",
    "    Ixx = np.multiply(Ix,Ix)\n",
    "    Iyy = np.multiply(Iy,Iy)\n",
    "    Ixy = np.multiply(Ix,Iy)\n",
    "    Iyx = np.multiply(Ix,Iy)\n",
    "    Igx = cv2.GaussianBlur(Ixx,(5,5),1)\n",
    "    Igy = cv2.GaussianBlur(Iyy,(5,5),1)\n",
    "    Igxy = cv2.GaussianBlur(Ixy,(5,5),1)\n",
    "    Igyx = cv2.GaussianBlur(Iyx,(5,5),1)\n",
    "    det = np.multiply(Igx,Igy) - np.multiply(Igxy,Igyx)\n",
    "    trace =  np.multiply((Igx + Igy),(Igx + Igy))\n",
    "    Q = det-0.04*(trace)\n",
    "#     Alpha = 0.04\n",
    "    final_image,corners = show_corners(Q,img,currImage,tau)\n",
    "    return corners\n",
    "\n",
    "def show_corners(corners, img,currImage,tau):\n",
    "    image = currImage.copy()\n",
    "    corners = non_maximum_suppresor(corners,img,tau)\n",
    "    for i in corners:\n",
    "        x,y = i.ravel()\n",
    "        image[x][y] = [0,255,0]\n",
    "    cv2.imshow(\"Corner\", image)\n",
    "    return image,corners\n",
    "\n",
    "def non_maximum_suppresor(image, img,tau):\n",
    "    result = np.zeros((len(img), len(img[0])))\n",
    "    for i in range(1,len(img) - 1):\n",
    "        for j in range(1, len(img[0]) - 1):\n",
    "            if image[i, j] > image[i-1, j-1] and image[i, j] > image[i-1, j+1]\\\n",
    "            and image[i, j] > image[i+1, j-1] and image[i, j] > image[i+1, j+1]\\\n",
    "            and image[i, j] > image[i+1, j] and image[i-1, j] > image[i+1, j+1]\\\n",
    "            and image[i, j] > image[i, j+1] and image[i, j] > image[i, j-1]:\n",
    "                result[i, j] = image[i, j]\n",
    "            else:\n",
    "                result[i, j] = 0\n",
    "    xmax, xmin = result.max(), result.min()\n",
    "    result = (result - xmin)/(xmax - xmin)\n",
    "    HCResponseTreshold = (result >= tau)\n",
    "    candidates = np.transpose(HCResponseTreshold.nonzero())    \n",
    "    return candidates\n",
    "\n",
    "tau = 0.05 # threshold for Harris corner detection\n",
    "imagesInFolder = 50\n",
    "currImage = images[0]\n",
    "results = detectKeypoints(currImage, tau)\n",
    "cv2.waitKey(0)"
   ]
  },
  {
   "cell_type": "code",
   "execution_count": null,
   "metadata": {},
   "outputs": [],
   "source": []
  }
 ],
 "metadata": {
  "kernelspec": {
   "display_name": "Python 3",
   "language": "python",
   "name": "python3"
  },
  "language_info": {
   "codemirror_mode": {
    "name": "ipython",
    "version": 3
   },
   "file_extension": ".py",
   "mimetype": "text/x-python",
   "name": "python",
   "nbconvert_exporter": "python",
   "pygments_lexer": "ipython3",
   "version": "3.7.3"
  }
 },
 "nbformat": 4,
 "nbformat_minor": 2
}
